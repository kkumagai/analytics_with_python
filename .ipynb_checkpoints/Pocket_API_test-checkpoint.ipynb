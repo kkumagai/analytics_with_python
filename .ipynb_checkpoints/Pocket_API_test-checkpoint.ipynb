{
 "cells": [
  {
   "cell_type": "markdown",
   "metadata": {
    "collapsed": false
   },
   "source": [
    "# import requests\n",
    "import json\n",
    "\n",
    "headers = {\n",
    "    \"Content-Type\":\"application/json;charset=UTF-8\"\n",
    "    , \"X-Accept\": \"application/json\"\n",
    "}\n",
    "\n",
    "consumer_key = \"49058-47b3d29e9c34f5bfdb2f2252\"\n",
    "redirect_uri = \"http://kkumagai.github.io/\""
   ]
  },
  {
   "cell_type": "markdown",
   "metadata": {},
   "source": [
    "# Request code\n",
    "\n",
    "codeはUser名的な位置づけなので、一度取得すればよい。\n",
    "一度ブラウザから\"url\"へアクセスしアプリケーションの使用を許可する必要がある"
   ]
  },
  {
   "cell_type": "code",
   "execution_count": 9,
   "metadata": {
    "collapsed": true
   },
   "outputs": [],
   "source": [
    "data = {\n",
    "    \"consumer_key\":consumer_key\n",
    "    , \"redirect_uri\":redirect_uri\n",
    "}\n",
    "r = requests.post(\"https://getpocket.com/v3/oauth/request\",data=json.dumps(data),headers=headers)\n",
    "\n",
    "code = json.loads(r.text)\n",
    "\n",
    "url = \"https://getpocket.com/auth/authorize?request_token=%s&redirect_uri=%s\" % (code[\"code\"], data[\"redirect_uri\"])"
   ]
  },
  {
   "cell_type": "code",
   "execution_count": 11,
   "metadata": {
    "collapsed": false
   },
   "outputs": [
    {
     "data": {
      "text/plain": [
       "'https://getpocket.com/auth/authorize?request_token=a012d2f2-77ed-e9df-4071-fcaff2&redirect_uri=http://kkumagai.github.io/'"
      ]
     },
     "execution_count": 11,
     "metadata": {},
     "output_type": "execute_result"
    }
   ],
   "source": [
    "url"
   ]
  },
  {
   "cell_type": "markdown",
   "metadata": {},
   "source": [
    "# Authorize\n",
    "\n",
    "取得したUser(code)から、Authorizeを実行し、短時間有効なaccess_tokenを取得"
   ]
  },
  {
   "cell_type": "code",
   "execution_count": 14,
   "metadata": {
    "collapsed": false
   },
   "outputs": [],
   "source": [
    "code = code[\"code\"]"
   ]
  },
  {
   "cell_type": "code",
   "execution_count": 15,
   "metadata": {
    "collapsed": false
   },
   "outputs": [],
   "source": [
    "data = {\n",
    "    \"consumer_key\":consumer_key\n",
    "    ,\"code\": code\n",
    "}\n",
    "r = requests.post(\"https://getpocket.com/v3/oauth/authorize\",data=json.dumps(data),headers=headers)\n",
    "access_token = json.loads(r.text)[\"access_token\"]"
   ]
  },
  {
   "cell_type": "markdown",
   "metadata": {},
   "source": [
    "# Retrieve\n",
    "\n",
    "[Pocket Developer Program: Pocket API: Retrieve](https://getpocket.com/developer/docs/v3/retrieve)"
   ]
  },
  {
   "cell_type": "code",
   "execution_count": 17,
   "metadata": {
    "collapsed": false
   },
   "outputs": [],
   "source": [
    "data = {\n",
    "    \"consumer_key\": consumer_key\n",
    "    , \"access_token\": access_token\n",
    "    , \"count\":\"5000\"\n",
    "    , \"sort\": \"newest\"\n",
    "    , \"detailType\":\"complete\"\n",
    "}\n",
    "\n",
    "r = requests.post(\"https://getpocket.com/v3/get\",data=json.dumps(data),headers=headers)"
   ]
  },
  {
   "cell_type": "code",
   "execution_count": 48,
   "metadata": {
    "collapsed": true
   },
   "outputs": [],
   "source": [
    "result = json.loads(r.text)"
   ]
  },
  {
   "cell_type": "code",
   "execution_count": 124,
   "metadata": {
    "collapsed": true
   },
   "outputs": [],
   "source": [
    "import random\n",
    "import datetime"
   ]
  },
  {
   "cell_type": "code",
   "execution_count": 105,
   "metadata": {
    "collapsed": false
   },
   "outputs": [],
   "source": [
    "quarters = [[1],[2],[3],[4],[5],[6],[7],[8],[9],[10],[11],[12]]\n",
    "\n",
    "def mecab_text(quarter):\n",
    "    keys = [key for key in result[\"list\"].keys() if datetime.date.fromtimestamp(int(result[\"list\"][key][\"time_added\"])).year == 2015\n",
    "           and datetime.date.fromtimestamp(int(result[\"list\"][key][\"time_added\"])).month in quarter]\n",
    "\n",
    "    title_list = []\n",
    "    for key in keys:\n",
    "        try:\n",
    "            title_list.append(\"%s\"%result[\"list\"][key][\"resolved_title\"])\n",
    "        except:\n",
    "            title_list.append(\"%s\"%result[\"list\"][key][\"given_title\"])\n",
    "    return \" \".join(title_list)\n",
    "texts = []\n",
    "for quarter in quarters:\n",
    "    texts.append(mecab_text(quarter))"
   ]
  },
  {
   "cell_type": "code",
   "execution_count": 106,
   "metadata": {
    "collapsed": false
   },
   "outputs": [],
   "source": [
    "import MeCab\n",
    "import collections\n",
    "def word_ranking(text):\n",
    "    mecab = MeCab.Tagger (\"-Ochasen\")\n",
    "    mecab_result = mecab.parse(text)\n",
    "    temp = [line.split(\"\\t\") for line in mecab_result.split(\"\\n\")]\n",
    "    del temp[-2:]\n",
    "    word = [line[0] for line in temp if \"名詞\" in line[3] and len(line[0]) >=3 ]\n",
    "    data = collections.Counter(word)\n",
    "    return [line for line in data.most_common() if line[1] >= 3]"
   ]
  },
  {
   "cell_type": "code",
   "execution_count": 107,
   "metadata": {
    "collapsed": true
   },
   "outputs": [],
   "source": [
    "ranking = []\n",
    "for text in texts:\n",
    "    ranking.append(word_ranking(text))"
   ]
  },
  {
   "cell_type": "code",
   "execution_count": 117,
   "metadata": {
    "collapsed": false,
    "scrolled": true
   },
   "outputs": [
    {
     "name": "stdout",
     "output_type": "stream",
     "text": [
      "1月:[('Ruby', 20), ('まとめ', 13), ('Rails', 13), ('Web', 11), ('サイト', 10)]\n",
      "2月:[('データ', 6), ('Python', 5), ('The', 4), ('サービス', 4), ('and', 4)]\n",
      "3月:[('データ', 12), ('デザイン', 7), ('Speaker', 6), ('プログラミング', 6), ('Deck', 6)]\n",
      "4月:[('データ', 7), ('サイト', 5), ('2015', 5), ('アプリ', 4), ('Google', 4)]\n",
      "5月:[('データ', 5), ('ビジネス', 4), ('マンション', 4), ('2015', 4), ('システム', 4)]\n",
      "6月:[('エンジニア', 3), ('AWS', 3)]\n",
      "7月:[('Amazon', 12), ('Data', 9), ('エンジニア', 8), ('AWS', 7), ('Python', 6)]\n",
      "8月:[('Python', 12), ('2015', 9), ('データ', 8), ('Web', 7), ('Spark', 5)]\n",
      "9月:[('データ', 12), ('Python', 10), ('AWS', 5), ('サイエンティスト', 3), ('マシュー', 3)]\n",
      "10月:[('AWS', 12), ('Python', 10), ('データ', 10), ('エンジニア', 7), ('2015', 7)]\n",
      "11月:[('AWS', 17), ('2015', 10), ('Python', 6), ('Lambda', 6), ('IoT', 6)]\n",
      "12月:[('AWS', 6), ('Python', 4), ('初心者', 3), ('Google', 3), ('IoT', 3)]\n"
     ]
    }
   ],
   "source": [
    "i = 1\n",
    "for monthly_ranking in ranking:\n",
    "    print(\"%i月:%s\" % (i,monthly_ranking[0:5]))\n",
    "    i = i + 1"
   ]
  },
  {
   "cell_type": "code",
   "execution_count": null,
   "metadata": {
    "collapsed": true
   },
   "outputs": [],
   "source": []
  }
 ],
 "metadata": {
  "kernelspec": {
   "display_name": "Python 3",
   "language": "python",
   "name": "python3"
  },
  "language_info": {
   "codemirror_mode": {
    "name": "ipython",
    "version": 3
   },
   "file_extension": ".py",
   "mimetype": "text/x-python",
   "name": "python",
   "nbconvert_exporter": "python",
   "pygments_lexer": "ipython3",
   "version": "3.4.2"
  }
 },
 "nbformat": 4,
 "nbformat_minor": 0
}
