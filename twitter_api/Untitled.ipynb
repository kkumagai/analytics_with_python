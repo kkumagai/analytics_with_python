{
 "cells": [
  {
   "cell_type": "code",
   "execution_count": 9,
   "metadata": {
    "collapsed": false
   },
   "outputs": [
    {
     "name": "stdout",
     "output_type": "stream",
     "text": [
      "OK\n"
     ]
    }
   ],
   "source": [
    "from requests_oauthlib import OAuth1Session\n",
    "\n",
    "CK = 'zZkRRrAfnL00ejZGvvCg'                             # Consumer Key\n",
    "CS = 'x1e0cdsKOpaVbW1rjeElRFevLvv99i4wIKy3O95pnU'         # Consumer Secret\n",
    "AT = '5379442-5aq3k0eEqD80mByCP7xKzygyq1LygRzgqZQegnqUOj' # Access Token\n",
    "AS = 'fWqfRL5EaTW6NZ7qDa2tVhogfGrvfvK6AdC4hf5dW8bu6'         # Accesss Token Secert\n",
    "\n",
    "# ツイート投稿用のURL\n",
    "url = \"https://api.twitter.com/1.1/statuses/user_timeline.json\"\n",
    "\n",
    "# ツイート本文\n",
    "params = {}\n",
    "\n",
    "# OAuth認証で POST method で投稿\n",
    "twitter = OAuth1Session(CK, CS, AT, AS)\n",
    "req = twitter.get(url, params = params)\n",
    "\n",
    "# レスポンスを確認\n",
    "if req.status_code == 200:\n",
    "    print (\"OK\")\n",
    "else:\n",
    "    print (\"Error: %d\" % req.status_code)"
   ]
  },
  {
   "cell_type": "code",
   "execution_count": 16,
   "metadata": {
    "collapsed": false
   },
   "outputs": [],
   "source": [
    "import json\n",
    "data = json.loads(req.text)"
   ]
  },
  {
   "cell_type": "code",
   "execution_count": 20,
   "metadata": {
    "collapsed": false
   },
   "outputs": [
    {
     "name": "stdout",
     "output_type": "stream",
     "text": [
      "twitter版やFacebook版もつくってみたい。\n",
      "お勉強ついでにPocketに保存してる記事タイトルをMeCabで形態素解析して月ごとに集計してみました。5月にマンションを買おうとしたり、7月あたりからPythonを始めたり、最近はAWS熱が高まってるなどいろいろ思い出されます。 https://t.co/1ml8rumZwi\n",
      "urllibよりもrequests のほうがHTTPの使用に準拠した文法で使いやすい。公式ドキュメントでもオススメされてた。 https://t.co/f3sIY5SjAX\n",
      "徳丸本のお勉強の一貫でpocketのAPIをPythonから叩いてみた。昔RailsでOauth認証したときはgemに頼るだけで何してるかよくわからなかったけど、HTTPからやったらようやく納得。 https://t.co/G5XFti0hdu\n",
      "技術と!技術の境界線が見える。\n",
      "早速徳丸セキュリティ本を買って読んでるけどこれは面白い。人為的なものを置いておくと技術でカバーできる領域とできていない領域があるからセキュリティ問題が起きるのであり、セキュリティを学ぶことはすなわち技術を学ぶということ。https://t.co/iIyahmgvKt\n",
      "郵便局が不在通知をいれたと主張しているけど、入ってなかったと思うんだよな―。他の郵便物に挟まって捨てたりしてるかもしれないけど。。\n",
      "amazonマーケットプレイスで頼んだ商品が届かないので、マーケットプレイス保証申請してみたけど、即ギフト券で返金受けて終わらせることもできるんですね。折角なので社会勉強のために様子をうかがってみよう。\n",
      "セキュリティ以外は全部やったことあるので今度話題の徳丸本読もう。 非エンジニアがWebプログラミングで勉強すべき10のこと | TechAcademyマガジン https://t.co/j6Usa7YkxG\n",
      "@wakka107 かもん＼(^o^)／\n",
      "えーー！？ Pythonに後置if文は存在しない | Cross Points https://t.co/A36yLjzaKU\n",
      "台東区民に恵比寿は遠いぜ。。\n",
      "一瞬池袋降りてラーメン食べたけどいいとこすなぁ。\n",
      "この時間の山手線は久しぶりだなｰ｡\n",
      "改めてHTML+CSSをちゃんと勉強したいなー。久しぶりに使うとうまくできない。。\n",
      "覚えることは少ないのに色々できて素敵。 GitHub PagesとJekyllの組み合わせの便利さを今更知って勃つ - ゆーすけべー日記 https://t.co/oLW2XpT5D8\n",
      "こんだけ楽になれば、一人で何でも作れそうな気がする。 (レポート) AWSモバイル/IoTサービス徹底攻略！！ 「Serverless Architecture on AWS」 #cmdevio ｜ Developers.IO https://t.co/AhrHuKJFwg\n",
      "「疲れないで、楽をすればもっともっと大きくなる」 サイゼリヤがすげーｗ - 旧・teruyastarはかく語りき https://t.co/g51WF60nxF\n",
      "サイゼリヤでのiPodTouch導入は2012年かららしい。横目にキッチンを覗いてみると、iPadにオーダーが表示されているようでした。 https://t.co/xLrBKh7W2h\n",
      "久しぶりにサイゼリヤで夕飯を食べ、デニーズでデザートを食べてきた。十二分においしくて他に比べるとずいぶん安くて、チェーン店と競争するのは本当に大変だなーと。ちなみにサイゼリヤではハンディがiPod Touchになっていて、気づかないうちに外食業界の変化が進んでいるみたい。\n"
     ]
    }
   ],
   "source": [
    "for line in data:\n",
    "    print(line[\"text\"])"
   ]
  },
  {
   "cell_type": "code",
   "execution_count": 18,
   "metadata": {
    "collapsed": false
   },
   "outputs": [
    {
     "data": {
      "text/plain": [
       "{'contributors': None,\n",
       " 'coordinates': None,\n",
       " 'created_at': 'Sat Dec 12 02:48:39 +0000 2015',\n",
       " 'entities': {'hashtags': [], 'symbols': [], 'urls': [], 'user_mentions': []},\n",
       " 'favorite_count': 0,\n",
       " 'favorited': False,\n",
       " 'geo': None,\n",
       " 'id': 675507525836406785,\n",
       " 'id_str': '675507525836406785',\n",
       " 'in_reply_to_screen_name': None,\n",
       " 'in_reply_to_status_id': None,\n",
       " 'in_reply_to_status_id_str': None,\n",
       " 'in_reply_to_user_id': None,\n",
       " 'in_reply_to_user_id_str': None,\n",
       " 'is_quote_status': False,\n",
       " 'lang': 'ja',\n",
       " 'place': None,\n",
       " 'retweet_count': 0,\n",
       " 'retweeted': False,\n",
       " 'source': '<a href=\"http://twitter.com\" rel=\"nofollow\">Twitter Web Client</a>',\n",
       " 'text': 'twitter版やFacebook版もつくってみたい。',\n",
       " 'truncated': False,\n",
       " 'user': {'contributors_enabled': False,\n",
       "  'created_at': 'Sat Apr 21 13:36:04 +0000 2007',\n",
       "  'default_profile': False,\n",
       "  'default_profile_image': False,\n",
       "  'description': '2ch(大学受験板)とAmazonを駆使して大学受験を突破し05年に北海道滝川市から上京。確率統計やオペレーションズリサーチを学んで修士号を取得し、アナリティクスもコーディングもドンと来いな経営戦略コンサルタントを目指して日々精進してます。',\n",
       "  'entities': {'description': {'urls': []},\n",
       "   'url': {'urls': [{'display_url': 'kkumagai.github.io',\n",
       "      'expanded_url': 'http://kkumagai.github.io/',\n",
       "      'indices': [0, 23],\n",
       "      'url': 'https://t.co/ammEI37eat'}]}},\n",
       "  'favourites_count': 502,\n",
       "  'follow_request_sent': False,\n",
       "  'followers_count': 506,\n",
       "  'following': False,\n",
       "  'friends_count': 280,\n",
       "  'geo_enabled': True,\n",
       "  'has_extended_profile': False,\n",
       "  'id': 5379442,\n",
       "  'id_str': '5379442',\n",
       "  'is_translation_enabled': False,\n",
       "  'is_translator': False,\n",
       "  'lang': 'en',\n",
       "  'listed_count': 52,\n",
       "  'location': ' 東京都台東区',\n",
       "  'name': 'Kazutoshi Kumagai',\n",
       "  'notifications': False,\n",
       "  'profile_background_color': '1A1B1F',\n",
       "  'profile_background_image_url': 'http://abs.twimg.com/images/themes/theme9/bg.gif',\n",
       "  'profile_background_image_url_https': 'https://abs.twimg.com/images/themes/theme9/bg.gif',\n",
       "  'profile_background_tile': False,\n",
       "  'profile_image_url': 'http://pbs.twimg.com/profile_images/92837604/20090312-00752_normal.jpg',\n",
       "  'profile_image_url_https': 'https://pbs.twimg.com/profile_images/92837604/20090312-00752_normal.jpg',\n",
       "  'profile_link_color': '2FC2EF',\n",
       "  'profile_sidebar_border_color': '181A1E',\n",
       "  'profile_sidebar_fill_color': '252429',\n",
       "  'profile_text_color': '666666',\n",
       "  'profile_use_background_image': True,\n",
       "  'protected': False,\n",
       "  'screen_name': 'kkuma',\n",
       "  'statuses_count': 8831,\n",
       "  'time_zone': 'Tokyo',\n",
       "  'url': 'https://t.co/ammEI37eat',\n",
       "  'utc_offset': 32400,\n",
       "  'verified': False}}"
      ]
     },
     "execution_count": 18,
     "metadata": {},
     "output_type": "execute_result"
    }
   ],
   "source": [
    "data[0]"
   ]
  },
  {
   "cell_type": "code",
   "execution_count": null,
   "metadata": {
    "collapsed": true
   },
   "outputs": [],
   "source": []
  }
 ],
 "metadata": {
  "kernelspec": {
   "display_name": "Python 3",
   "language": "python",
   "name": "python3"
  },
  "language_info": {
   "codemirror_mode": {
    "name": "ipython",
    "version": 3
   },
   "file_extension": ".py",
   "mimetype": "text/x-python",
   "name": "python",
   "nbconvert_exporter": "python",
   "pygments_lexer": "ipython3",
   "version": "3.4.2"
  }
 },
 "nbformat": 4,
 "nbformat_minor": 0
}
