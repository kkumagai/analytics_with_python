{
 "cells": [
  {
   "cell_type": "markdown",
   "metadata": {},
   "source": [
    "[Python でレコメンデーションを実装する - Qiita](http://qiita.com/ynakayama/items/59beb40b7c3829cc0bf2)"
   ]
  },
  {
   "cell_type": "code",
   "execution_count": 20,
   "metadata": {
    "collapsed": true
   },
   "outputs": [],
   "source": [
    "from math import sqrt"
   ]
  },
  {
   "cell_type": "code",
   "execution_count": 40,
   "metadata": {
    "collapsed": true
   },
   "outputs": [],
   "source": [
    "from sklearn.metrics import jaccard_similarity_score"
   ]
  },
  {
   "cell_type": "code",
   "execution_count": 42,
   "metadata": {
    "collapsed": false
   },
   "outputs": [
    {
     "ename": "ValueError",
     "evalue": "Expected array-like (array or non-string sequence), got {'寿司': 3.5, '牛丼': 2.5, 'カレー': 2.5, 'うどん': 3.0, 'チャーハン': 3.0, 'ラーメン': 3.5}",
     "output_type": "error",
     "traceback": [
      "\u001b[0;31m---------------------------------------------------------------------------\u001b[0m",
      "\u001b[0;31mValueError\u001b[0m                                Traceback (most recent call last)",
      "\u001b[0;32m<ipython-input-42-2eba9e9fe9d9>\u001b[0m in \u001b[0;36m<module>\u001b[0;34m()\u001b[0m\n\u001b[0;32m----> 1\u001b[0;31m \u001b[0mjaccard_similarity_score\u001b[0m\u001b[0;34m(\u001b[0m\u001b[0mdataset\u001b[0m\u001b[0;34m[\u001b[0m\u001b[0;34m\"山田\"\u001b[0m\u001b[0;34m]\u001b[0m\u001b[0;34m,\u001b[0m\u001b[0mdataset\u001b[0m\u001b[0;34m[\u001b[0m\u001b[0;34m\"田中\"\u001b[0m\u001b[0;34m]\u001b[0m\u001b[0;34m)\u001b[0m\u001b[0;34m\u001b[0m\u001b[0m\n\u001b[0m",
      "\u001b[0;32m/Library/Frameworks/Python.framework/Versions/3.4/lib/python3.4/site-packages/sklearn/metrics/classification.py\u001b[0m in \u001b[0;36mjaccard_similarity_score\u001b[0;34m(y_true, y_pred, normalize, sample_weight)\u001b[0m\n\u001b[1;32m    326\u001b[0m \u001b[0;34m\u001b[0m\u001b[0m\n\u001b[1;32m    327\u001b[0m     \u001b[0;31m# Compute accuracy for each possible representation\u001b[0m\u001b[0;34m\u001b[0m\u001b[0;34m\u001b[0m\u001b[0m\n\u001b[0;32m--> 328\u001b[0;31m     \u001b[0my_type\u001b[0m\u001b[0;34m,\u001b[0m \u001b[0my_true\u001b[0m\u001b[0;34m,\u001b[0m \u001b[0my_pred\u001b[0m \u001b[0;34m=\u001b[0m \u001b[0m_check_targets\u001b[0m\u001b[0;34m(\u001b[0m\u001b[0my_true\u001b[0m\u001b[0;34m,\u001b[0m \u001b[0my_pred\u001b[0m\u001b[0;34m)\u001b[0m\u001b[0;34m\u001b[0m\u001b[0m\n\u001b[0m\u001b[1;32m    329\u001b[0m     \u001b[0;32mif\u001b[0m \u001b[0my_type\u001b[0m\u001b[0;34m.\u001b[0m\u001b[0mstartswith\u001b[0m\u001b[0;34m(\u001b[0m\u001b[0;34m'multilabel'\u001b[0m\u001b[0;34m)\u001b[0m\u001b[0;34m:\u001b[0m\u001b[0;34m\u001b[0m\u001b[0m\n\u001b[1;32m    330\u001b[0m         \u001b[0;32mwith\u001b[0m \u001b[0mnp\u001b[0m\u001b[0;34m.\u001b[0m\u001b[0merrstate\u001b[0m\u001b[0;34m(\u001b[0m\u001b[0mdivide\u001b[0m\u001b[0;34m=\u001b[0m\u001b[0;34m'ignore'\u001b[0m\u001b[0;34m,\u001b[0m \u001b[0minvalid\u001b[0m\u001b[0;34m=\u001b[0m\u001b[0;34m'ignore'\u001b[0m\u001b[0;34m)\u001b[0m\u001b[0;34m:\u001b[0m\u001b[0;34m\u001b[0m\u001b[0m\n",
      "\u001b[0;32m/Library/Frameworks/Python.framework/Versions/3.4/lib/python3.4/site-packages/sklearn/metrics/classification.py\u001b[0m in \u001b[0;36m_check_targets\u001b[0;34m(y_true, y_pred)\u001b[0m\n\u001b[1;32m     73\u001b[0m     \"\"\"\n\u001b[1;32m     74\u001b[0m     \u001b[0mcheck_consistent_length\u001b[0m\u001b[0;34m(\u001b[0m\u001b[0my_true\u001b[0m\u001b[0;34m,\u001b[0m \u001b[0my_pred\u001b[0m\u001b[0;34m)\u001b[0m\u001b[0;34m\u001b[0m\u001b[0m\n\u001b[0;32m---> 75\u001b[0;31m     \u001b[0mtype_true\u001b[0m \u001b[0;34m=\u001b[0m \u001b[0mtype_of_target\u001b[0m\u001b[0;34m(\u001b[0m\u001b[0my_true\u001b[0m\u001b[0;34m)\u001b[0m\u001b[0;34m\u001b[0m\u001b[0m\n\u001b[0m\u001b[1;32m     76\u001b[0m     \u001b[0mtype_pred\u001b[0m \u001b[0;34m=\u001b[0m \u001b[0mtype_of_target\u001b[0m\u001b[0;34m(\u001b[0m\u001b[0my_pred\u001b[0m\u001b[0;34m)\u001b[0m\u001b[0;34m\u001b[0m\u001b[0m\n\u001b[1;32m     77\u001b[0m \u001b[0;34m\u001b[0m\u001b[0m\n",
      "\u001b[0;32m/Library/Frameworks/Python.framework/Versions/3.4/lib/python3.4/site-packages/sklearn/utils/multiclass.py\u001b[0m in \u001b[0;36mtype_of_target\u001b[0;34m(y)\u001b[0m\n\u001b[1;32m    285\u001b[0m     \u001b[0;32mif\u001b[0m \u001b[0;32mnot\u001b[0m \u001b[0mvalid\u001b[0m\u001b[0;34m:\u001b[0m\u001b[0;34m\u001b[0m\u001b[0m\n\u001b[1;32m    286\u001b[0m         raise ValueError('Expected array-like (array or non-string sequence), '\n\u001b[0;32m--> 287\u001b[0;31m                          'got %r' % y)\n\u001b[0m\u001b[1;32m    288\u001b[0m \u001b[0;34m\u001b[0m\u001b[0m\n\u001b[1;32m    289\u001b[0m     \u001b[0;32mif\u001b[0m \u001b[0mis_sequence_of_sequences\u001b[0m\u001b[0;34m(\u001b[0m\u001b[0my\u001b[0m\u001b[0;34m)\u001b[0m\u001b[0;34m:\u001b[0m\u001b[0;34m\u001b[0m\u001b[0m\n",
      "\u001b[0;31mValueError\u001b[0m: Expected array-like (array or non-string sequence), got {'寿司': 3.5, '牛丼': 2.5, 'カレー': 2.5, 'うどん': 3.0, 'チャーハン': 3.0, 'ラーメン': 3.5}"
     ]
    }
   ],
   "source": [
    "jaccard_similarity_score(dataset[\"山田\"],dataset[\"田中\"])"
   ]
  },
  {
   "cell_type": "code",
   "execution_count": 1,
   "metadata": {
    "collapsed": true
   },
   "outputs": [],
   "source": [
    "dataset = {\n",
    "    '山田': {'カレー': 2.5,\n",
    "           'ラーメン': 3.5,\n",
    "       a    'チャーハン': 3.0,\n",
    "           '寿司': 3.5,\n",
    "           '牛丼': 2.5,\n",
    "           'うどん': 3.0},\n",
    "    '田中': {'カレー': 3.0,\n",
    "           'ラーメン': 3.5,\n",
    "           'チャーハン': 1.5,\n",
    "           '寿司': 5.0,\n",
    "           'うどん': 3.0,\n",
    "           '牛丼': 3.5},\n",
    "    '佐藤': {'カレー': 2.5,\n",
    "           'ラーメン': 3.0,\n",
    "           '寿司': 3.5,\n",
    "           'うどん': 4.0},\n",
    "    '中村': {'ラーメン': 3.5,\n",
    "           'チャーハン': 3.0,\n",
    "           'うどん': 4.5,\n",
    "           '寿司': 4.0,\n",
    "           '牛丼': 2.5},\n",
    "    '川村': {'カレー': 3.0,\n",
    "           'ラーメン': 4.0,\n",
    "           'チャーハン': 2.0,\n",
    "           '寿司': 3.0,\n",
    "           'うどん': 3.0,\n",
    "           '牛丼': 2.0},\n",
    "    '鈴木': {'カレー': 3.0,\n",
    "           'ラーメン': 4.0,\n",
    "           'うどん': 3.0,\n",
    "           '寿司': 5.0,\n",
    "           '牛丼': 3.5},\n",
    "    '下林': {'ラーメン': 4.5,\n",
    "           '牛丼': 1.0,\n",
    "           '寿司': 4.0}}"
   ]
  },
  {
   "cell_type": "code",
   "execution_count": 23,
   "metadata": {
    "collapsed": false
   },
   "outputs": [
    {
     "name": "stdout",
     "output_type": "stream",
     "text": [
      "川村:{'寿司': 3.0, '牛丼': 2.0, 'うどん': 3.0, 'カレー': 3.0, 'チャーハン': 2.0, 'ラーメン': 4.0}\n",
      "下林:{'牛丼': 1.0, '寿司': 4.0, 'ラーメン': 4.5}\n",
      "田中:{'寿司': 5.0, '牛丼': 3.5, 'うどん': 3.0, 'カレー': 3.0, 'チャーハン': 1.5, 'ラーメン': 3.5}\n",
      "鈴木:{'寿司': 5.0, 'うどん': 3.0, 'カレー': 3.0, '牛丼': 3.5, 'ラーメン': 4.0}\n",
      "山田:{'寿司': 3.5, '牛丼': 2.5, 'カレー': 2.5, 'うどん': 3.0, 'チャーハン': 3.0, 'ラーメン': 3.5}\n",
      "佐藤:{'寿司': 3.5, 'うどん': 4.0, 'カレー': 2.5, 'ラーメン': 3.0}\n",
      "中村:{'寿司': 4.0, '牛丼': 2.5, 'うどん': 4.5, 'チャーハン': 3.0, 'ラーメン': 3.5}\n"
     ]
    }
   ],
   "source": [
    "for person in dataset:\n",
    "    print(\"%s:%s\" % (person,dataset[person]))"
   ]
  },
  {
   "cell_type": "code",
   "execution_count": 29,
   "metadata": {
    "collapsed": false
   },
   "outputs": [
    {
     "name": "stdout",
     "output_type": "stream",
     "text": [
      "{'寿司': 1, '牛丼': 1, 'ラーメン': 1}\n",
      "2.25\n"
     ]
    },
    {
     "data": {
      "text/plain": [
       "0.4"
      ]
     },
     "execution_count": 29,
     "metadata": {},
     "output_type": "execute_result"
    }
   ],
   "source": [
    "similarity_score(\"川村\",\"下林\")"
   ]
  },
  {
   "cell_type": "code",
   "execution_count": 34,
   "metadata": {
    "collapsed": false
   },
   "outputs": [
    {
     "name": "stdout",
     "output_type": "stream",
     "text": [
      "{'寿司': 3.0, '牛丼': 2.0, 'うどん': 3.0, 'カレー': 3.0, 'チャーハン': 2.0, 'ラーメン': 4.0}\n",
      "{'牛丼': 1.0, '寿司': 4.0, 'ラーメン': 4.5}\n"
     ]
    },
    {
     "data": {
      "text/plain": [
       "2.25"
      ]
     },
     "execution_count": 34,
     "metadata": {},
     "output_type": "execute_result"
    }
   ],
   "source": [
    "print(dataset[\"川村\"])\n",
    "print(dataset[\"下林\"])\n",
    "\n",
    "(4-3)**2 + (4.5-4.0)**2 + (2-1)**2"
   ]
  },
  {
   "cell_type": "code",
   "execution_count": 36,
   "metadata": {
    "collapsed": false
   },
   "outputs": [
    {
     "name": "stdout",
     "output_type": "stream",
     "text": [
      "山田さんと鈴木さんの類似度 (ユークリッド距離) 0.3405424265831667\n"
     ]
    }
   ],
   "source": [
    "def similarity_score(person1, person2):\n",
    "    # 戻り値は person1 と person2 のユークリッド距離\n",
    "\n",
    "    both_viewed = {}  # 双方に共通のアイテムを取得\n",
    "\n",
    "    for item in dataset[person1]:\n",
    "        if item in dataset[person2]:\n",
    "            both_viewed[item] = 1\n",
    "    \n",
    "    # 共通のアイテムを持っていなければ 0 を返す\n",
    "    if len(both_viewed) == 0:\n",
    "        return 0\n",
    "\n",
    "    # ユークリッド距離の計算\n",
    "    sum_of_eclidean_distance = []\n",
    "\n",
    "    for item in dataset[person1]:\n",
    "        if item in dataset[person2]:\n",
    "            sum_of_eclidean_distance.append(\n",
    "                pow(dataset[person1][item] - dataset[person2][item], 2))\n",
    "    total_of_eclidean_distance = sum(sum_of_eclidean_distance)\n",
    "\n",
    "    return 1 / (1 + sqrt(total_of_eclidean_distance))\n",
    "\n",
    "print(\"山田さんと鈴木さんの類似度 (ユークリッド距離)\",\n",
    "      similarity_score('山田', '鈴木'))\n",
    "\n",
    "#=> 山田さんと鈴木さんの類似度 (ユークリッド距離) 0.3405424265831667"
   ]
  },
  {
   "cell_type": "code",
   "execution_count": 35,
   "metadata": {
    "collapsed": false
   },
   "outputs": [
    {
     "name": "stdout",
     "output_type": "stream",
     "text": [
      "山田さんと田中さんの類似度 (ピアソン相関係数) 0.39605901719066977\n"
     ]
    }
   ],
   "source": [
    "def pearson_correlation(person1, person2):\n",
    "\n",
    "    # 両方のアイテムを取得\n",
    "    both_rated = {}\n",
    "    for item in dataset[person1]:\n",
    "        if item in dataset[person2]:\n",
    "            both_rated[item] = 1\n",
    "\n",
    "    number_of_ratings = len(both_rated)\n",
    "\n",
    "    # 共通のアイテムがあるかチェック、無ければ 0 を返す\n",
    "    if number_of_ratings == 0:\n",
    "        return 0\n",
    "\n",
    "    # 各ユーザーごとのすべての好みを追加\n",
    "    person1_preferences_sum = sum(\n",
    "        [dataset[person1][item] for item in both_rated])\n",
    "    person2_preferences_sum = sum(\n",
    "        [dataset[person2][item] for item in both_rated])\n",
    "\n",
    "    # 各ユーザーの好みの値の二乗を計算\n",
    "    person1_square_preferences_sum = sum(\n",
    "        [pow(dataset[person1][item], 2) for item in both_rated])\n",
    "    person2_square_preferences_sum = sum(\n",
    "        [pow(dataset[person2][item], 2) for item in both_rated])\n",
    "\n",
    "    # アイテムごとのユーザー同士のレーティングを算出して合計\n",
    "    product_sum_of_both_users = sum(\n",
    "        [dataset[person1][item] * dataset[person2][item] for item in both_rated])\n",
    "\n",
    "    # ピアソンスコアの計算\n",
    "    numerator_value = product_sum_of_both_users - \\\n",
    "        (person1_preferences_sum * person2_preferences_sum / number_of_ratings)\n",
    "    denominator_value = sqrt((person1_square_preferences_sum - pow(person1_preferences_sum, 2) / number_of_ratings) * (\n",
    "        person2_square_preferences_sum - pow(person2_preferences_sum, 2) / number_of_ratings))\n",
    "    if denominator_value == 0:\n",
    "        return 0\n",
    "    else:\n",
    "        r = numerator_value / denominator_value\n",
    "        return r\n",
    "\n",
    "print(\"山田さんと田中さんの類似度 (ピアソン相関係数)\",\n",
    "      (pearson_correlation('山田', '田中')))\n",
    "\n",
    "#=> 山田さんと田中さんの類似度 (ピアソン相関係数) 0.39605901719066977"
   ]
  },
  {
   "cell_type": "code",
   "execution_count": 37,
   "metadata": {
    "collapsed": false
   },
   "outputs": [
    {
     "name": "stdout",
     "output_type": "stream",
     "text": [
      "山田さんに似た人ベスト 3 [(0.9912407071619299, '下林'), (0.7470178808339965, '鈴木'), (0.5940885257860044, '川村')]\n"
     ]
    }
   ],
   "source": [
    "def most_similar_users(person, number_of_users):\n",
    "    # 似たユーザーとその類似度を返す\n",
    "    scores = [(pearson_correlation(person, other_person), other_person)\n",
    "              for other_person in dataset if other_person != person]\n",
    "\n",
    "    # 最高の類似度の人物が最初になるようにソートする\n",
    "    scores.sort()\n",
    "    scores.reverse()\n",
    "    return scores[0:number_of_users]\n",
    "\n",
    "print(\"山田さんに似た人ベスト 3\",\n",
    "      most_similar_users('山田', 3))\n",
    "\n",
    "#=> 山田さんに似た人ベスト 3 [(0.9912407071619299, '下林'), (0.7470178808339965, '鈴木'), (0.5940885257860044, '川村')]"
   ]
  },
  {
   "cell_type": "code",
   "execution_count": 8,
   "metadata": {
    "collapsed": false
   },
   "outputs": [
    {
     "name": "stdout",
     "output_type": "stream",
     "text": [
      "下林さんにおすすめのメニュー ['うどん', 'カレー', 'チャーハン']\n"
     ]
    }
   ],
   "source": [
    "def user_reommendations(person):\n",
    "\n",
    "    # 他のユーザーの加重平均によるランキングから推薦を求める\n",
    "    totals = {}\n",
    "    simSums = {}\n",
    "    for other in dataset:\n",
    "        # 自分自身は比較しない\n",
    "        if other == person:\n",
    "            continue\n",
    "        sim = pearson_correlation(person, other)\n",
    "\n",
    "        # ゼロ以下のスコアは無視する\n",
    "        if sim <= 0:\n",
    "            continue\n",
    "        for item in dataset[other]:\n",
    "\n",
    "            # まだ所持していないアイテムのスコア\n",
    "            if item not in dataset[person] or dataset[person][item] == 0:\n",
    "\n",
    "                # Similrity * スコア\n",
    "                totals.setdefault(item, 0)\n",
    "                totals[item] += dataset[other][item] * sim\n",
    "                # 類似度の和\n",
    "                simSums.setdefault(item, 0)\n",
    "                simSums[item] += sim\n",
    "\n",
    "        # 正規化されたリストを作成\n",
    "\n",
    "    rankings = [(total / simSums[item], item)\n",
    "                for item, total in list(totals.items())]\n",
    "    rankings.sort()\n",
    "    rankings.reverse()\n",
    "    # 推薦アイテムを返す\n",
    "    recommendataions_list = [\n",
    "        recommend_item for score, recommend_item in rankings]\n",
    "    return recommendataions_list\n",
    "\n",
    "print(\"下林さんにおすすめのメニュー\",\n",
    "      user_reommendations('下林'))\n",
    "#=> 下林さんにおすすめのメニュー ['うどん', 'カレー', 'チャーハン']"
   ]
  },
  {
   "cell_type": "code",
   "execution_count": 19,
   "metadata": {
    "collapsed": false
   },
   "outputs": [
    {
     "data": {
      "text/plain": [
       "{'うどん', 'カレー', 'チャーハン', 'ラーメン', '寿司', '牛丼'}"
      ]
     },
     "execution_count": 19,
     "metadata": {},
     "output_type": "execute_result"
    }
   ],
   "source": [
    "items = set([])\n",
    "for person in dataset:\n",
    "    for item in dataset[person].keys():\n",
    "        items.add(item)\n",
    "items"
   ]
  },
  {
   "cell_type": "code",
   "execution_count": null,
   "metadata": {
    "collapsed": true
   },
   "outputs": [],
   "source": []
  }
 ],
 "metadata": {
  "kernelspec": {
   "display_name": "Python 3",
   "language": "python",
   "name": "python3"
  },
  "language_info": {
   "codemirror_mode": {
    "name": "ipython",
    "version": 3
   },
   "file_extension": ".py",
   "mimetype": "text/x-python",
   "name": "python",
   "nbconvert_exporter": "python",
   "pygments_lexer": "ipython3",
   "version": "3.4.2"
  }
 },
 "nbformat": 4,
 "nbformat_minor": 0
}
