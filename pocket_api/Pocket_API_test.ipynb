{
 "cells": [
  {
   "cell_type": "markdown",
   "metadata": {
    "collapsed": false
   },
   "source": [
    "# import requests\n",
    "\n",
    "[Pocket Developer Program: Pocket Authentication API: Documentation](https://getpocket.com/developer/docs/authentication)"
   ]
  },
  {
   "cell_type": "code",
   "execution_count": 20,
   "metadata": {
    "collapsed": false
   },
   "outputs": [],
   "source": [
    "import json\n",
    "import yaml\n",
    "import requests\n",
    "\n",
    "headers = {\n",
    "    \"Content-Type\":\"application/json;charset=UTF-8\"\n",
    "    , \"X-Accept\": \"application/json\"\n",
    "}\n",
    "\n",
    "with open(\".private.yaml\") as text:\n",
    "    data = yaml.load(text)\n",
    "    consumer_key = data[\"consumer_key\"]\n",
    "    redirect_uri = data[\"redirect_uri\"]\n",
    "    code = data[\"code\"]"
   ]
  },
  {
   "cell_type": "markdown",
   "metadata": {},
   "source": [
    "# Request code\n",
    "\n",
    "codeはUser名的な位置づけなので、一度取得すればよい。\n",
    "一度ブラウザから\"url\"へアクセスしアプリケーションの使用を許可する必要がある"
   ]
  },
  {
   "cell_type": "code",
   "execution_count": 17,
   "metadata": {
    "collapsed": false
   },
   "outputs": [],
   "source": [
    "# data = {\n",
    "#     \"consumer_key\":consumer_key\n",
    "#     , \"redirect_uri\":redirect_uri\n",
    "# }\n",
    "# r = requests.post(\"https://getpocket.com/v3/oauth/request\",data=json.dumps(data),headers=headers)\n",
    "\n",
    "# code = json.loads(r.text)\n",
    "\n",
    "# url = \"https://getpocket.com/auth/authorize?request_token=%s&redirect_uri=%s\" % (code[\"code\"], data[\"redirect_uri\"])\n",
    "# url"
   ]
  },
  {
   "cell_type": "markdown",
   "metadata": {},
   "source": [
    "# Authorize\n",
    "\n",
    "取得したUser(code)から、Authorizeを実行し、短時間有効なaccess_tokenを取得"
   ]
  },
  {
   "cell_type": "code",
   "execution_count": 23,
   "metadata": {
    "collapsed": false
   },
   "outputs": [],
   "source": [
    "data = {\n",
    "    \"consumer_key\":consumer_key\n",
    "    ,\"code\": code\n",
    "}\n",
    "r = requests.post(\"https://getpocket.com/v3/oauth/authorize\",data=json.dumps(data),headers=headers)\n",
    "access_token = json.loads(r.text)[\"access_token\"]"
   ]
  },
  {
   "cell_type": "markdown",
   "metadata": {},
   "source": [
    "# Retrieve\n",
    "\n",
    "[Pocket Developer Program: Pocket API: Retrieve](https://getpocket.com/developer/docs/v3/retrieve)"
   ]
  },
  {
   "cell_type": "code",
   "execution_count": 24,
   "metadata": {
    "collapsed": false
   },
   "outputs": [],
   "source": [
    "data = {\n",
    "    \"consumer_key\": consumer_key\n",
    "    , \"access_token\": access_token\n",
    "    , \"count\":\"5000\"\n",
    "    , \"sort\": \"newest\"\n",
    "    , \"detailType\":\"complete\"\n",
    "}\n",
    "\n",
    "r = requests.post(\"https://getpocket.com/v3/get\",data=json.dumps(data),headers=headers)"
   ]
  },
  {
   "cell_type": "code",
   "execution_count": 25,
   "metadata": {
    "collapsed": true
   },
   "outputs": [],
   "source": [
    "result = json.loads(r.text)"
   ]
  },
  {
   "cell_type": "code",
   "execution_count": 26,
   "metadata": {
    "collapsed": true
   },
   "outputs": [],
   "source": [
    "import random\n",
    "import datetime"
   ]
  },
  {
   "cell_type": "code",
   "execution_count": 27,
   "metadata": {
    "collapsed": false
   },
   "outputs": [],
   "source": [
    "quarters = [[1],[2],[3],[4],[5],[6],[7],[8],[9],[10],[11],[12]]\n",
    "\n",
    "def mecab_text(quarter):\n",
    "    keys = [key for key in result[\"list\"].keys() if datetime.date.fromtimestamp(int(result[\"list\"][key][\"time_added\"])).year == 2015\n",
    "           and datetime.date.fromtimestamp(int(result[\"list\"][key][\"time_added\"])).month in quarter]\n",
    "\n",
    "    title_list = []\n",
    "    for key in keys:\n",
    "        try:\n",
    "            title_list.append(\"%s\"%result[\"list\"][key][\"resolved_title\"])\n",
    "        except:\n",
    "            title_list.append(\"%s\"%result[\"list\"][key][\"given_title\"])\n",
    "    return \" \".join(title_list)\n",
    "texts = []\n",
    "for quarter in quarters:\n",
    "    texts.append(mecab_text(quarter))"
   ]
  },
  {
   "cell_type": "code",
   "execution_count": 28,
   "metadata": {
    "collapsed": false
   },
   "outputs": [],
   "source": [
    "import MeCab\n",
    "import collections\n",
    "def word_ranking(text):\n",
    "    mecab = MeCab.Tagger (\"-Ochasen\")\n",
    "    mecab_result = mecab.parse(text)\n",
    "    temp = [line.split(\"\\t\") for line in mecab_result.split(\"\\n\")]\n",
    "    del temp[-2:]\n",
    "    word = [line[0] for line in temp if \"名詞\" in line[3] and len(line[0]) >=3 ]\n",
    "    data = collections.Counter(word)\n",
    "    return [line for line in data.most_common() if line[1] >= 3]"
   ]
  },
  {
   "cell_type": "code",
   "execution_count": 29,
   "metadata": {
    "collapsed": true
   },
   "outputs": [],
   "source": [
    "ranking = []\n",
    "for text in texts:\n",
    "    ranking.append(word_ranking(text))"
   ]
  },
  {
   "cell_type": "code",
   "execution_count": 30,
   "metadata": {
    "collapsed": false,
    "scrolled": true
   },
   "outputs": [
    {
     "name": "stdout",
     "output_type": "stream",
     "text": [
      "1月:[('Ruby', 20), ('まとめ', 13), ('Rails', 13), ('Web', 11), ('ツール', 10)]\n",
      "2月:[('データ', 6), ('Python', 5), ('The', 4), ('サービス', 4), ('and', 4)]\n",
      "3月:[('データ', 12), ('デザイン', 7), ('プログラミング', 6), ('Speaker', 6), ('Deck', 6)]\n",
      "4月:[('データ', 7), ('サイト', 5), ('2015', 5), ('Google', 4), ('まとめ', 4)]\n",
      "5月:[('データ', 5), ('システム', 4), ('ビジネス', 4), ('2015', 4), ('マンション', 4)]\n",
      "6月:[('エンジニア', 3), ('AWS', 3)]\n",
      "7月:[('Amazon', 12), ('Data', 9), ('エンジニア', 8), ('AWS', 7), ('Hadoop', 6)]\n",
      "8月:[('Python', 12), ('2015', 9), ('データ', 8), ('Web', 7), ('Spark', 5)]\n",
      "9月:[('データ', 12), ('Python', 10), ('AWS', 5), ('Machine', 3), ('2015', 3)]\n",
      "10月:[('AWS', 12), ('Python', 10), ('データ', 10), ('2015', 7), ('エンジニア', 7)]\n",
      "11月:[('AWS', 17), ('2015', 10), ('Python', 6), ('Lambda', 6), ('IoT', 6)]\n",
      "12月:[('AWS', 6), ('Python', 4), ('Web', 3), ('Google', 3), ('デザイン', 3)]\n"
     ]
    }
   ],
   "source": [
    "i = 1\n",
    "for monthly_ranking in ranking:\n",
    "    print(\"%i月:%s\" % (i,monthly_ranking[0:5]))\n",
    "    i = i + 1"
   ]
  }
 ],
 "metadata": {
  "kernelspec": {
   "display_name": "Python 3",
   "language": "python",
   "name": "python3"
  },
  "language_info": {
   "codemirror_mode": {
    "name": "ipython",
    "version": 3
   },
   "file_extension": ".py",
   "mimetype": "text/x-python",
   "name": "python",
   "nbconvert_exporter": "python",
   "pygments_lexer": "ipython3",
   "version": "3.4.2"
  }
 },
 "nbformat": 4,
 "nbformat_minor": 0
}
